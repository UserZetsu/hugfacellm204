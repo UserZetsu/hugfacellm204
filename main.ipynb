{
 "cells": [
  {
   "cell_type": "code",
   "execution_count": 4,
   "metadata": {},
   "outputs": [
    {
     "data": {
      "text/plain": [
       "{'type': 'user',\n",
       " 'id': '65ea667d5e5fc34fe5662e9a',\n",
       " 'name': 'Jefflinbc',\n",
       " 'fullname': 'Jeff ',\n",
       " 'isPro': False,\n",
       " 'avatarUrl': '/avatars/80695d5e468d9384fe54eae13ee58aa5.svg',\n",
       " 'orgs': [{'type': 'org',\n",
       "   'id': '649487b364bfbfa4fa60c1bb',\n",
       "   'name': 'UCSF',\n",
       "   'fullname': 'University of California, San Francisco',\n",
       "   'avatarUrl': 'https://cdn-avatars.huggingface.co/v1/production/uploads/62d125ab6c1592eeecdaf4a1/-669Yw7FPbhSREO8XxjZm.jpeg',\n",
       "   'isEnterprise': False}],\n",
       " 'auth': {'type': 'access_token',\n",
       "  'accessToken': {'displayName': 'general',\n",
       "   'role': 'fineGrained',\n",
       "   'createdAt': '2025-03-16T08:00:56.012Z',\n",
       "   'fineGrained': {'canReadGatedRepos': True,\n",
       "    'global': ['inference.serverless.write'],\n",
       "    'scoped': [{'entity': {'_id': '65ea667d5e5fc34fe5662e9a',\n",
       "       'type': 'user',\n",
       "       'name': 'Jefflinbc'},\n",
       "      'permissions': ['repo.content.read',\n",
       "       'repo.write',\n",
       "       'inference.endpoints.infer.write',\n",
       "       'inference.endpoints.write']}]}}}}"
      ]
     },
     "execution_count": 4,
     "metadata": {},
     "output_type": "execute_result"
    }
   ],
   "source": [
    "# Imports \n",
    "from pdf2image import convert_from_path\n",
    "import pytesseract\n",
    "\n",
    "import os \n",
    "import sys\n",
    "from tqdm.autonotebook import tqdm\n",
    "\n",
    "# Going to use MarkItDown because it translates PDFs to LLM readable text better\n",
    "from markitdown import MarkItDown\n",
    "\n",
    "# Using HuggingFace \n",
    "from huggingface_hub import InferenceClient, whoami\n",
    "whoami()\n"
   ]
  },
  {
   "cell_type": "code",
   "execution_count": null,
   "metadata": {},
   "outputs": [],
   "source": [
    "# def extract_text_from_pdf(pdf_path):\n",
    "#     text = \"\"\n",
    "#     with open(pdf_path, 'rb') as pdf_file:\n",
    "#         pdf_reader = PyPDF2.PdfReader(pdf_file)\n",
    "#         for page_num in range(len(pdf_reader.pages)):\n",
    "#             page = pdf_reader.pages[page_num]\n",
    "#             text += page.extract_text()\n",
    "#     return text\n",
    "\n",
    "\n",
    "# Simpler text extractor\n",
    "def extract_text_from_pdf(pdf_path):\n",
    "    md = MarkItDown(enable_plugins=False, docintel_endpoint=\"<document_intelligence_endpoint>\")\n",
    "    result = md.convert(pdf_path)\n",
    "    return result.text_content\n",
    "\n",
    "# Since some PDFs can be scans, convert them to image and user OCR to read text\n",
    "def ocr_text_from_pdf(pdf_path):\n",
    "    pages = convert_from_path(pdf_path, 300)\n",
    "    text = ''\n",
    "    for page in pages:\n",
    "        # OCR :) \n",
    "        text += pytesseract.image_to_string(page)\n",
    "    return text"
   ]
  },
  {
   "cell_type": "code",
   "execution_count": null,
   "metadata": {},
   "outputs": [
    {
     "name": "stderr",
     "output_type": "stream",
     "text": [
      "  8%|▊         | 1/13 [00:01<00:13,  1.09s/it]"
     ]
    },
    {
     "name": "stdout",
     "output_type": "stream",
     "text": [
      "9.pdf SBA_PDF/9.\n"
     ]
    },
    {
     "name": "stderr",
     "output_type": "stream",
     "text": [
      " 15%|█▌        | 2/13 [00:02<00:10,  1.01it/s]"
     ]
    },
    {
     "name": "stdout",
     "output_type": "stream",
     "text": [
      "8.pdf SBA_PDF/8.\n"
     ]
    },
    {
     "name": "stderr",
     "output_type": "stream",
     "text": [
      " 23%|██▎       | 3/13 [00:03<00:12,  1.24s/it]"
     ]
    },
    {
     "name": "stdout",
     "output_type": "stream",
     "text": [
      "10.pdf SBA_PDF/10\n"
     ]
    },
    {
     "name": "stderr",
     "output_type": "stream",
     "text": [
      " 31%|███       | 4/13 [00:04<00:09,  1.02s/it]"
     ]
    },
    {
     "name": "stdout",
     "output_type": "stream",
     "text": [
      "11.pdf SBA_PDF/11\n"
     ]
    },
    {
     "name": "stderr",
     "output_type": "stream",
     "text": [
      " 38%|███▊      | 5/13 [00:08<00:16,  2.09s/it]"
     ]
    },
    {
     "name": "stdout",
     "output_type": "stream",
     "text": [
      "13.pdf SBA_PDF/13\n"
     ]
    },
    {
     "name": "stderr",
     "output_type": "stream",
     "text": [
      " 46%|████▌     | 6/13 [00:09<00:13,  1.91s/it]"
     ]
    },
    {
     "name": "stdout",
     "output_type": "stream",
     "text": [
      "12.pdf SBA_PDF/12\n"
     ]
    },
    {
     "name": "stderr",
     "output_type": "stream",
     "text": [
      " 54%|█████▍    | 7/13 [00:10<00:09,  1.66s/it]"
     ]
    },
    {
     "name": "stdout",
     "output_type": "stream",
     "text": [
      "6.pdf SBA_PDF/6.\n"
     ]
    },
    {
     "name": "stderr",
     "output_type": "stream",
     "text": [
      " 62%|██████▏   | 8/13 [01:11<01:41, 20.40s/it]"
     ]
    },
    {
     "name": "stdout",
     "output_type": "stream",
     "text": [
      "7.pdf SBA_PDF/7.\n"
     ]
    },
    {
     "name": "stderr",
     "output_type": "stream",
     "text": [
      " 69%|██████▉   | 9/13 [01:14<01:00, 15.09s/it]"
     ]
    },
    {
     "name": "stdout",
     "output_type": "stream",
     "text": [
      "5.pdf SBA_PDF/5.\n"
     ]
    },
    {
     "name": "stderr",
     "output_type": "stream",
     "text": [
      " 77%|███████▋  | 10/13 [01:16<00:33, 11.09s/it]"
     ]
    },
    {
     "name": "stdout",
     "output_type": "stream",
     "text": [
      "4.pdf SBA_PDF/4.\n"
     ]
    },
    {
     "name": "stderr",
     "output_type": "stream",
     "text": [
      " 85%|████████▍ | 11/13 [01:17<00:15,  7.89s/it]"
     ]
    },
    {
     "name": "stdout",
     "output_type": "stream",
     "text": [
      "1.pdf SBA_PDF/1.\n"
     ]
    },
    {
     "name": "stderr",
     "output_type": "stream",
     "text": [
      " 92%|█████████▏| 12/13 [01:20<00:06,  6.44s/it]"
     ]
    },
    {
     "name": "stdout",
     "output_type": "stream",
     "text": [
      "3.pdf SBA_PDF/3.\n"
     ]
    },
    {
     "name": "stderr",
     "output_type": "stream",
     "text": [
      "100%|██████████| 13/13 [01:27<00:00,  6.71s/it]"
     ]
    },
    {
     "name": "stdout",
     "output_type": "stream",
     "text": [
      "2.pdf SBA_PDF/2.\n"
     ]
    },
    {
     "name": "stderr",
     "output_type": "stream",
     "text": [
      "\n"
     ]
    }
   ],
   "source": [
    "# Main block\n",
    "folder = 'SBA_PDF'\n",
    "pdf_text = []\n",
    "for name in tqdm(os.listdir(folder)):\n",
    "    pdf = folder + '/' + name\n",
    "    text = extract_text_from_pdf(pdf)\n",
    "\n",
    "    if len(text) < 1: \n",
    "        pdf_text.append(ocr_text_from_pdf(pdf)) \n",
    "    else: \n",
    "        pdf_text.append(text)\n",
    "\n",
    "satralizumab = pdf_text[2]\n",
    "\n",
    "# Inference on all files\n",
    "# client = InferenceClient(model= \"Qwen/QwQ-32B\")\n",
    "# inference_outputs = []\n",
    "# for sba in pdf_text:\n",
    "#     print(sba)\n",
    "#     inference_outputs.append(sba_text_inference(client, sba))\n",
    "    "
   ]
  },
  {
   "cell_type": "code",
   "execution_count": 65,
   "metadata": {},
   "outputs": [],
   "source": [
    "satralizumab = pdf_text[2]\n",
    "\n",
    "prompt = \"\"\"\n",
    "\n",
    "\t\t\tYou are an FDA reviewer and expert pharmacologist.\n",
    "\n",
    "\t\t\tYour job is to extract only the required information from the SBA document provided by the user.\n",
    "\n",
    "\t\t\tYou must answer the following questions strictly in the format below. \n",
    "\t\t\tDO NOT provide extra commentary, summaries, or interpretations. Just extract what is asked.\n",
    "\n",
    "\t\t\t### RESPONSE FORMAT (MUST FOLLOW THIS EXACT TEMPLATE):\n",
    "\n",
    "\t\t\t1. Exposure-safety analyses:\n",
    "\t\t\t<Your answer here>\n",
    "\n",
    "\t\t\t2. Exposure-efficacy analyses:\n",
    "\t\t\t<Your answer here>\n",
    "\n",
    "\t\t\t3. Post-marketing requirements or commitments:\n",
    "\t\t\t<Your answer here>\n",
    "\n",
    "\t\t\t4. Maximum Tolerated Dose (MTD):\n",
    "\t\t\t<Your answer here>\n",
    "\n",
    "\t\t\tRepeat: DO NOT summarize or add additional content outside this format.\t\n",
    "   \n",
    "\t\t\tBelow is the SBA document to summarize: \n",
    "\n",
    "\"\"\""
   ]
  },
  {
   "cell_type": "code",
   "execution_count": 66,
   "metadata": {},
   "outputs": [
    {
     "name": "stdout",
     "output_type": "stream",
     "text": [
      "ChatCompletionOutput(choices=[ChatCompletionOutputComplete(finish_reason='stop', index=0, message=ChatCompletionOutputMessage(role='assistant', content=' 1. Exposure-safety analyses: The clinical pharmacology review supports the effectiveness of satralizumab with pivotal Phase 3 clinical trial results showing a significant reduction in the risk of adjudicated relapse. No dose adjustments are needed based on intrinsic factors such as age, race, sex, bodyweight, renal or hepatic impairment, drug/transporter interactions. However, the development of anti-drug antibodies (ADAs) has been observed, which is correlated to higher bodyweight and lower satralizumab exposure, although its impact on efficacy is inconclusive and not clinically relevant to safety.\\n\\n2. Exposure-efficacy analyses: The clinical pharmacology program provides supportive evidence of effectiveness. The pivotal Phase 3 clinical trials demonstrate a significant reduction in the risk of an adjudicated relapse with treatment with satralizumab. The recommended dose regimen is supported by the results of the trials, with no alternative dosing regimen and management strategy indicated for subpopulations based on intrinsic/extrinsic factors.\\n\\n3. Post-marketing requirements or commitments: None specified.\\n\\n4. Maximum Tolerated Dose (MTD): Not provided in the document.', tool_calls=[], refusal=None, audio=None, function_call=None, reasoning_content=None), logprobs=None, stop_reason=32007)], created=1742266667, id='chatcmpl-cee14a71eed64422955259bec3777a36', model='microsoft/Phi-3-medium-128k-instruct-fast', system_fingerprint=None, usage=ChatCompletionOutputUsage(completion_tokens=301, prompt_tokens=25969, total_tokens=26270, completion_tokens_details=None, prompt_tokens_details=None), object='chat.completion', service_tier=None, prompt_logprobs=None)\n"
     ]
    }
   ],
   "source": [
    "client = InferenceClient(provider=\"nebius\")\n",
    "\n",
    "messages = [\n",
    "\t{\n",
    "\t\t\"role\": \"user\",\n",
    "\t\t\"content\": f\"{prompt}\" + f\"\\n {satralizumab}\"\n",
    "  \n",
    "\t}\t\n",
    "]\n",
    "\n",
    "result = client.chat.completions.create(\n",
    "\tmessages = messages,\n",
    "\tmodel=\"microsoft/Phi-3-medium-128k-instruct\",\n",
    "\tmax_tokens = 500,\n",
    ")\n",
    "print(result)"
   ]
  },
  {
   "cell_type": "code",
   "execution_count": 68,
   "metadata": {},
   "outputs": [
    {
     "data": {
      "text/plain": [
       "' 1. Exposure-safety analyses: The clinical pharmacology review supports the effectiveness of satralizumab with pivotal Phase 3 clinical trial results showing a significant reduction in the risk of adjudicated relapse. No dose adjustments are needed based on intrinsic factors such as age, race, sex, bodyweight, renal or hepatic impairment, drug/transporter interactions. However, the development of anti-drug antibodies (ADAs) has been observed, which is correlated to higher bodyweight and lower satralizumab exposure, although its impact on efficacy is inconclusive and not clinically relevant to safety.\\n\\n2. Exposure-efficacy analyses: The clinical pharmacology program provides supportive evidence of effectiveness. The pivotal Phase 3 clinical trials demonstrate a significant reduction in the risk of an adjudicated relapse with treatment with satralizumab. The recommended dose regimen is supported by the results of the trials, with no alternative dosing regimen and management strategy indicated for subpopulations based on intrinsic/extrinsic factors.\\n\\n3. Post-marketing requirements or commitments: None specified.\\n\\n4. Maximum Tolerated Dose (MTD): Not provided in the document.'"
      ]
     },
     "execution_count": 68,
     "metadata": {},
     "output_type": "execute_result"
    }
   ],
   "source": [
    "result.choices[0].message['content']"
   ]
  },
  {
   "cell_type": "code",
   "execution_count": 69,
   "metadata": {},
   "outputs": [],
   "source": [
    "client = InferenceClient(provider=\"nebius\")\n",
    "\n",
    "messages = [\n",
    "\t{\n",
    "\t\t\"role\": \"user\",\n",
    "\t\t\"content\": f\"Summarize the information (i - iv above) you extracted from the SBA assigned to you in 200 words or less: {result.choices[0].message['content']}\"\n",
    "  \n",
    "\t}\t\n",
    "]\n",
    "\n",
    "result = client.chat.completions.create(\n",
    "\tmessages = messages,\n",
    "\tmodel=\"microsoft/Phi-3-medium-128k-instruct\",\n",
    "\tmax_tokens = 500,\n",
    ")"
   ]
  }
 ],
 "metadata": {
  "kernelspec": {
   "display_name": "cdd204",
   "language": "python",
   "name": "python3"
  },
  "language_info": {
   "codemirror_mode": {
    "name": "ipython",
    "version": 3
   },
   "file_extension": ".py",
   "mimetype": "text/x-python",
   "name": "python",
   "nbconvert_exporter": "python",
   "pygments_lexer": "ipython3",
   "version": "3.13.2"
  }
 },
 "nbformat": 4,
 "nbformat_minor": 2
}
